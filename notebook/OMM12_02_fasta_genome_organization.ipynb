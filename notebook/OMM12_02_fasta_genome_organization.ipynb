{
 "cells": [
  {
   "cell_type": "markdown",
   "id": "8ce17247",
   "metadata": {},
   "source": [
    "# Fasta genome reorganization\n",
    "\n",
    "The goal is to reorganize the genome of the bacteria where there are visible misassemblies on the HicMap. Bacteria concerned by these rearrangements are: \n",
    "\n",
    "|Bacteria|Number|Name|Microbiote|Rearrangements|\n",
    "|:-:|:-:|:-:|:-:|:-:|\n",
    "|acetatifactor_muris|16||No|Duplication ?|\n",
    "|akkermansia_muciniphila|9||Yes|Translocation phage|\n",
    "|bacteroidetes_caecimuris|7||Yes|Two small translocations|\n",
    "|bifidobacterium_animalis|14||No|Large inversion|\n",
    "|blautia_coccoides|6||Yes|-|\n",
    "|clostridium_clostrodioforme|10||Yes|Duplication ?|\n",
    "|clostridium_innocuum|5||Yes|-|\n",
    "|enterococcus_faecalis|11||No|-|\n",
    "|flavonifractor_plautii|12||No|A lot of things|\n",
    "|lactobacillus_reuteri|13||No|-|\n",
    "|muribaculum_intestinale|8||Yes|-|\n",
    "|trichuris_muris|15||No|-|\n",
    "\n",
    "We generates the bam files in order to reorganize the genomes based on the reads and not the contact map."
   ]
  },
  {
   "cell_type": "code",
   "execution_count": 1,
   "id": "d65c13dc",
   "metadata": {},
   "outputs": [],
   "source": [
    "%%script false --no-raise-error\n",
    "%%bash \n",
    "\n",
    "# Script to align reads on genome (call alignement.sh later)\n",
    "\n",
    "fasta=$1\n",
    "forward=$2\n",
    "reverse=$3\n",
    "output=$4\n",
    "threads=16\n",
    "\n",
    "bwa index $fasta\n",
    "bwa mem -5SP -t $threads $fasta $forward $reverse > $output.sam\n",
    "samtools view -F 0x904 -bS $output.sam -@ $threads > $output.bam\n",
    "samtools sort $output.bam -@ $threads > $output.sorted.bam\n",
    "samtools index $output.sorted.bam -@ $threads\n",
    "\n",
    "rm $output.sam $output.bam"
   ]
  },
  {
   "cell_type": "markdown",
   "id": "c7c17a9c",
   "metadata": {},
   "source": [
    "## *Bifidobacterium animalis*\n",
    "\n",
    "Align reads on genome \n",
    "\n",
    "```bash\n",
    "/data/oligomm/alignment.sh bifidobacterium_animalis/B_animalis.fa \\\n",
    "    fastq/OMM10_rep_for.fastq.gz fastq/OMM10_rep_rev.fastq.gz \\\n",
    "    bifidobacterium_animalis/b_animalis -t 16\n",
    "```\n",
    "\n",
    "Zoom on the translocation with pyGenome tracks: \n",
    "\n",
    "```bash \n",
    "cd /data/oligomm/bifidobacterium_animalis/annotation\n",
    "pyGenomeTracks --tracks b_animalis_tracks.ini --out zoom.pdf --region B_animalis:450000-550000\n",
    "```\n",
    "\n",
    "Find positions of inversion at 480,000 and 1,370,000 more or less 5kb. \n",
    "\n",
    "Use IGV with genes annotation the bam files and the reference genome to refine the position of the inversion.\n",
    "\n",
    "Find positions for the inversion:\n",
    "\n",
    "|start|end|orientation|\n",
    "|:-:|:-:|:-:|\n",
    "|1|483615|1|  \n",
    "|483626|1371765|-1|  \n",
    "|1371766|2021936|1|  "
   ]
  },
  {
   "cell_type": "code",
   "execution_count": 2,
   "id": "54a953b6",
   "metadata": {},
   "outputs": [],
   "source": [
    "## Rewrite the fasta\n",
    "from Bio import SeqIO\n",
    "from Bio.SeqRecord import SeqRecord\n",
    "from Bio.Seq import Seq\n",
    "import pandas as pd\n",
    "\n",
    "\n",
    "def write_fasta(\n",
    "    init_fasta, info_frags, output, junction=False\n",
    "):\n",
    "\n",
    "    \"\"\"Convert an info_frags.txt file into a fasta file given a reference.\n",
    "    Optionally adds junction sequences to reflect the possibly missing base\n",
    "    pairs between two newly joined scaffolds.\n",
    "    \"\"\"\n",
    "\n",
    "    init_genome = {\n",
    "        record.id: record.seq for record in SeqIO.parse(init_fasta, \"fasta\")\n",
    "    }\n",
    "    init_contig = None\n",
    "    my_new_records = []\n",
    "    with open(info_frags, \"r\") as info_frags_handle:\n",
    "        current_seq = \"\"\n",
    "        current_id = None\n",
    "        previous_contig = None\n",
    "        for line in info_frags_handle:\n",
    "            if line.startswith(\">\"):\n",
    "                previous_contig = None\n",
    "                if current_id is not None:\n",
    "                    new_record = SeqRecord(\n",
    "                        current_seq, id=current_id, description=\"\"\n",
    "                    )\n",
    "                    my_new_records.append(new_record)\n",
    "                current_seq = \"\"\n",
    "                current_id = str(line[1:])\n",
    "            elif line.startswith(\"init_contig\"):\n",
    "                previous_contig = None\n",
    "            else:\n",
    "                (init_contig, _, orientation, pos_start, pos_end) = str(\n",
    "                    line[:-1]\n",
    "                ).split(\"\\t\")\n",
    "\n",
    "                start = int(pos_start)\n",
    "                end = int(pos_end)\n",
    "                ori = int(orientation)\n",
    "\n",
    "                assert start < end\n",
    "                assert ori in {-1, 1}\n",
    "                if junction and previous_contig not in {None, init_contig}:\n",
    "                    error_was_raised = False\n",
    "                    try:\n",
    "                        extra_seq = Seq(junction)\n",
    "                        current_seq += extra_seq\n",
    "                    except TypeError:\n",
    "                        if not error_was_raised:\n",
    "                            print(\"Invalid junction sequence\")\n",
    "                            error_was_raised = True\n",
    "\n",
    "                seq_to_add = init_genome[init_contig][start:end]\n",
    "                if ori == 1:\n",
    "                    current_seq += seq_to_add\n",
    "                elif ori == -1:\n",
    "                    current_seq += seq_to_add.reverse_complement()\n",
    "                else:\n",
    "                    raise ValueError(\"Invalid data in orientation field {}\".format(ori))\n",
    "\n",
    "                previous_contig = \"A\"\n",
    "\n",
    "        new_record = SeqRecord(current_seq, id=current_id, description=\"\")\n",
    "        my_new_records.append(new_record)\n",
    "    SeqIO.write(my_new_records, output, \"fasta\")"
   ]
  },
  {
   "cell_type": "code",
   "execution_count": 3,
   "id": "59bdab42",
   "metadata": {},
   "outputs": [
    {
     "name": "stdout",
     "output_type": "stream",
     "text": [
      ">B_animalis\n",
      "init_contig\tid_frag\torientation\tstart\tend\n",
      "B_animalis\t0\t1\t0\t483616\n",
      "B_animalis\t0\t-1\t483626\t1371766\n",
      "B_animalis\t0\t1\t1371766\t2021936\n"
     ]
    }
   ],
   "source": [
    "%%bash \n",
    "\n",
    "cd /data/oligomm/bifidobacterium_animalis/\n",
    "cat new_info_frags.txt"
   ]
  },
  {
   "cell_type": "code",
   "execution_count": 4,
   "id": "c79b8fcc",
   "metadata": {},
   "outputs": [],
   "source": [
    "import os\n",
    "\n",
    "os.chdir(\"/data/oligomm/bifidobacterium_animalis/\")\n",
    "write_fasta(\"B_animalis.fa\", \"new_info_frags.txt\", \"B_animalis_v2.fa\", junction=\"NNNNNNNNNN\")"
   ]
  },
  {
   "cell_type": "code",
   "execution_count": 5,
   "id": "9514481e",
   "metadata": {},
   "outputs": [],
   "source": [
    "%%script false --no-raise-error\n",
    "%%bash\n",
    "# Verification by doing again the contact map with hictuff to look at the matrix.\n",
    "\n",
    "hicstuff pipeline -C -d -DfF -g B_animalis_v2.fa -e DpnII,HinfI -pn -o 14_rep2_new_genome \\\n",
    "    -t 16 ../fastq/OMM10_rep_for.fastq.gz ../fastq/OMM10_rep_rev.fastq.gz\n",
    "cd 14_rep2_new_genome\n",
    "hicstuff view -n -b 500bp -f fragments_list.txt abs_fragments_contacts_weighted.txt \\\n",
    "    -T exp0.7 -o ../contact_map/in_vitro_R2_500bp_new_genome.png -D 1000\n",
    "hicstuff view -n -b 2kb -f fragments_list.txt abs_fragments_contacts_weighted.txt \\\n",
    "    -T exp0.7 -o ../contact_map/in_vitro_R2_2kb_new_genome.png -D 1000"
   ]
  },
  {
   "cell_type": "markdown",
   "id": "a5f3b137",
   "metadata": {},
   "source": [
    "## *Flavonifractor plautii*\n",
    "\n",
    "Align reads on genome \n",
    "\n",
    "```bash\n",
    "/data/OligoMM/alignment.sh flavonifractor_plautii/F_plautii.fa \\\n",
    "    fastq/OMM8_rep_for.fastq.gz fastq/OMM8_rep_rev.fastq.gz \\\n",
    "    flavonifractor_plautii/F_plautii -t 16\n",
    "```\n",
    "\n",
    "Zoom on the translocation with pyGenome tracks: \n",
    "\n",
    "```bash\n",
    "cd /data/OligoMM/flavonifractor_plautii/annotation\n",
    "pyGenomeTracks --tracks f_plautii_tracks.ini --out zoom.pdf --region F_plautii:450000-550000\n",
    "```\n",
    "\n",
    "Find positions:\n",
    "- duplication rRNA at 873,000 - 1,795,000 (let like that)\n",
    "- inversion at 915,000 - 1,035,000\n",
    "- translocation at 930,000-945,000 - 2,075,000 (not touch as no clear borders)\n",
    "- translocation at 1,355,000 - 3,740,000-END \n",
    "\n",
    "\n",
    "Use IGV with genes annotation the bam files and the reference genome to refine the position of the inversion.\n",
    "\n",
    "Find positions for the inversion:   \n",
    "0 915342 1  \n",
    "915352 1037195 -1  \n",
    "1037205 1355964 1  \n",
    "3743036 3813716 1  \n",
    "1355974 3743046 1  "
   ]
  },
  {
   "cell_type": "code",
   "execution_count": 6,
   "id": "04fb2301",
   "metadata": {},
   "outputs": [
    {
     "name": "stdout",
     "output_type": "stream",
     "text": [
      ">B_animalis\n",
      "init_contig\tid_frag\torientation\tstart\tend\n",
      "B_animalis\t0\t1\t0\t483616\n",
      "B_animalis\t0\t-1\t483626\t1371766\n",
      "B_animalis\t0\t1\t1371766\t2021936\n"
     ]
    }
   ],
   "source": [
    "%%bash \n",
    "cat new_info_frags.txt"
   ]
  },
  {
   "cell_type": "code",
   "execution_count": 7,
   "id": "245c9363",
   "metadata": {},
   "outputs": [],
   "source": [
    "os.chdir(\"/data/oligomm/flavonifractor_plautii/\")\n",
    "write_fasta(\"F_plautii.fa\", \"new_info_frags.txt\", \"F_plautii_v2.fa\", junction=\"NNNNNNNNNN\")"
   ]
  },
  {
   "cell_type": "code",
   "execution_count": 8,
   "id": "adbbb4fe",
   "metadata": {},
   "outputs": [],
   "source": [
    "%%script false --no-raise-error\n",
    "%%bash\n",
    "# Verification by doing again the contact map with hictuff to look at the matrix.\n",
    "\n",
    "hicstuff pipeline -C -d -DfF -g F_plautii_v2.fa -e DpnII,HinfI -pn -o 12_rep2_new_genome \\\n",
    "    -t 16 ../fastq/OMM8_rep_for.fastq.gz ../fastq/OMM8_rep_rev.fastq.gz\n",
    "cd 12_rep2_new_genome\n",
    "hicstuff view -n -b 500bp -f fragments_list.txt abs_fragments_contacts_weighted.txt \\\n",
    "    -T exp0.7 -o ../contact_map/in_vitro_R2_500bp_new_genome.png -D 1000\n",
    "hicstuff view -n -b 2kb -f fragments_list.txt abs_fragments_contacts_weighted.txt \\\n",
    "    -T exp0.7 -o ../contact_map/in_vitro_R2_2kb_new_genome.png -D 1000\n",
    "hicstuff view -n -b 500bp -f ../12_rep2/fragments_list.txt ../12_rep2/abs_fragments_contacts_weighted.txt \\\n",
    "    -T exp0.7 -o ../contact_map/in_vitro_R2_500bp_old_genome.png -D 1000\n",
    "hicstuff view -n -b 2kb -f ../12_rep2/fragments_list.txt ../12_rep2/abs_fragments_contacts_weighted.txt \\\n",
    "    -T exp0.7 -o ../contact_map/in_vitro_R2_2kb_old_genome.png -D 1000\n",
    "    "
   ]
  },
  {
   "cell_type": "markdown",
   "id": "cc57e491",
   "metadata": {},
   "source": [
    "## *Akkermansia muciniphila*\n",
    "\n",
    "Align reads on genome \n",
    "\n",
    "```bash\n",
    "/data/OligoMM/alignment.sh akkermansia_muciniphila/A_muciniphila.fa \\\n",
    "    fastq/OMM5_rep_for.fastq.gz fastq/OMM5_rep_rev.fastq.gz \\\n",
    "    akkermansia_muciniphila/A_muciniphila -t 16\n",
    "```\n",
    "\n",
    "Zoom on the translocation with pyGenome tracks: \n",
    "\n",
    "```bash\n",
    "cd /data/OligoMM/akkermansia_muciniphila/annotation\n",
    "pyGenomeTracks --tracks a_muciniphila_tracks.ini --out zoom.pdf --region A_muciniphila:450000-550000\n",
    "```\n",
    "\n",
    "Find positions:\n",
    "- translocation at 2,305,000-2,320,000 -> 735,000\n",
    "\n",
    "\n",
    "Use IGV with genes annotation the bam files and the reference genome to refine the position of the inversion.\n",
    "\n",
    "Find positions for the inversion:     \n",
    "0 733878 1    \n",
    "2305800 2324871 -1  \n",
    "733978  2305800 1   \n",
    "2324871 2737358 1  \n"
   ]
  },
  {
   "cell_type": "code",
   "execution_count": 9,
   "id": "22f38ed1",
   "metadata": {},
   "outputs": [
    {
     "name": "stdout",
     "output_type": "stream",
     "text": [
      ">A_muciniphila\n",
      "init_contig\tid_frag\torientation\tstart\tend\n",
      "A_muciniphila\t0\t1\t0\t733877\n",
      "A_muciniphila\t0\t-1\t2305800\t2324870\n",
      "A_muciniphila\t0\t1\t733977\t2305800\n",
      "A_muciniphila\t0\t1\t2324870\t2737358\n"
     ]
    }
   ],
   "source": [
    "%%bash\n",
    "\n",
    "cd ../akkermansia_muciniphila/\n",
    "cat new_info_frags.txt"
   ]
  },
  {
   "cell_type": "code",
   "execution_count": 10,
   "id": "fcee7f1b",
   "metadata": {},
   "outputs": [],
   "source": [
    "os.chdir(\"/data/oligomm/akkermansia_muciniphila/\")\n",
    "write_fasta(\"A_muciniphila.fa\", \"new_info_frags.txt\", \"A_muciniphila_v2.fa\", junction=\"NNNNNNNNNN\")"
   ]
  },
  {
   "cell_type": "code",
   "execution_count": 11,
   "id": "796f5533",
   "metadata": {},
   "outputs": [],
   "source": [
    "%%script false --no-raise-error\n",
    "%%bash\n",
    "# Verification by doing again the contact map with hictuff to look at the matrix.\n",
    "\n",
    "hicstuff pipeline -C -d -DfF -g A_muciniphila_v2.fa -e DpnII,HinfI -pn -o 9_rep2_new_genome \\\n",
    "    -t 16 ../fastq/OMM5_rep_for.fastq.gz ../fastq/OMM5_rep_rev.fastq.gz\n",
    "cd 9_rep2_new_genome\n",
    "hicstuff view -n -b 500bp -f fragments_list.txt abs_fragments_contacts_weighted.txt \\\n",
    "    -T exp0.7 -o ../contact_map/in_vitro_R2_500bp_new_genome.png -D 1000\n",
    "hicstuff view -n -b 2kb -f fragments_list.txt abs_fragments_contacts_weighted.txt \\\n",
    "    -T exp0.7 -o ../contact_map/in_vitro_R2_2kb_new_genome.png -D 1000\n",
    "hicstuff view -n -b 500bp -f ../9_rep2/fragments_list.txt ../9_rep2/abs_fragments_contacts_weighted.txt \\\n",
    "    -T exp0.7 -o ../contact_map/in_vitro_R2_500bp_old_genome.png -D 1000\n",
    "hicstuff view -n -b 2kb -f ../9_rep2/fragments_list.txt ../9_rep2/abs_fragments_contacts_weighted.txt \\\n",
    "    -T exp0.7 -o ../contact_map/in_vitro_R2_2kb_old_genome.png -D 1000\n",
    "    "
   ]
  },
  {
   "cell_type": "markdown",
   "id": "f06a1686",
   "metadata": {},
   "source": [
    "**It's duplicated**"
   ]
  },
  {
   "cell_type": "markdown",
   "id": "968530ae",
   "metadata": {},
   "source": [
    "## *Bacteroidetes caecimuris*\n",
    "\n",
    "Align reads on genome \n",
    "\n",
    "```bash\n",
    "/data/OligoMM/alignment.sh bacteroidetes_caecimuris/B_caecimuris.fa \\\n",
    "    fastq/OMM3_rep_for.fastq.gz fastq/OMM3_rep_rev.fastq.gz \\\n",
    "    bacteroidetes_caecimuris/B_caecimuris -t 16\n",
    "```\n",
    "\n",
    "Zoom on the translocation with pyGenome tracks: \n",
    "\n",
    "```bash\n",
    "cd /data/OligoMM/bacteroidetes_caecimuris/annotation\n",
    "pyGenomeTracks --tracks b_caecimuris_tracks.ini --out zoom.pdf --region B_caecimuris:450000-550000\n",
    "```\n",
    "\n",
    "Find positions:\n",
    "- translocation at 4,205,000-4,220,000 -> 100,000\n",
    "- translocation at 4,220,000-4,230,000 -> 1,685,000\n",
    "\n",
    "Use IGV with genes annotation the bam files and the reference genome to refine the position of the inversion.\n",
    "\n",
    "Find positions for the inversion:     \n",
    "0 123230 1  \n",
    "4209127 4219196 1  \n",
    "123240  1685345 1   \n",
    "4219206 4224320 1  \n",
    "1685355 4209137 1  \n",
    "4224330 4800606 1  "
   ]
  },
  {
   "cell_type": "code",
   "execution_count": 12,
   "id": "3de30a7e",
   "metadata": {},
   "outputs": [
    {
     "name": "stdout",
     "output_type": "stream",
     "text": [
      ">B_caecimuris\n",
      "init_contig\tid_frag\torientation\tstart\tend\n",
      "B_caecimuris\t0\t1\t0\t123231\n",
      "B_caecimuris\t0\t1\t4209138\t4219197\n",
      "B_caecimuris\t0\t1\t123241\t1685346\n",
      "B_caecimuris\t0\t1\t4219207\t4224321\n",
      "B_caecimuris\t0\t1\t1685356\t4209128\n",
      "B_caecimuris\t0\t1\t4224331\t4800607\n"
     ]
    }
   ],
   "source": [
    "%%bash\n",
    "\n",
    "cd ../bacteroidetes_caecimuris/\n",
    "cat new_info_frags.txt"
   ]
  },
  {
   "cell_type": "code",
   "execution_count": 13,
   "id": "d1f80014",
   "metadata": {},
   "outputs": [],
   "source": [
    "os.chdir(\"/data/oligomm/bacteroidetes_caecimuris/\")\n",
    "write_fasta(\"B_caecimuris.fa\", \"new_info_frags.txt\", \"B_caecimuris_v2.fa\", junction=\"NNNNNNNNNN\")"
   ]
  },
  {
   "cell_type": "code",
   "execution_count": 14,
   "id": "1f69893d",
   "metadata": {},
   "outputs": [],
   "source": [
    "%%script false --no-raise-error\n",
    "%%bash\n",
    "# Verification by doing again the contact map with hictuff to look at the matrix.\n",
    "\n",
    "hicstuff pipeline -C -d -DfF -g B_caecimuris_v2.fa -e DpnII,HinfI -pn -o 7_rep2_new_genome \\\n",
    "    -t 16 ../fastq/OMM3_rep_for.fastq.gz ../fastq/OMM3_rep_rev.fastq.gz\n",
    "cd 7_rep2_new_genome\n",
    "hicstuff view -n -b 500bp -f fragments_list.txt abs_fragments_contacts_weighted.txt \\\n",
    "    -T exp0.7 -o ../contact_map/in_vitro_R2_500bp_new_genome.png -D 1000\n",
    "hicstuff view -n -b 2kb -f fragments_list.txt abs_fragments_contacts_weighted.txt \\\n",
    "    -T exp0.7 -o ../contact_map/in_vitro_R2_2kb_new_genome.png -D 1000\n",
    "hicstuff view -n -b 500bp -f ../7_rep2/fragments_list.txt ../7_rep2/abs_fragments_contacts_weighted.txt \\\n",
    "    -T exp0.7 -o ../contact_map/in_vitro_R2_500bp_old_genome.png -D 1000\n",
    "hicstuff view -n -b 2kb -f ../7_rep2/fragments_list.txt ../7_rep2/abs_fragments_contacts_weighted.txt \\\n",
    "    -T exp0.7 -o ../contact_map/in_vitro_R2_2kb_old_genome.png -D 1000\n",
    "    "
   ]
  }
 ],
 "metadata": {
  "kernelspec": {
   "display_name": "Python 3",
   "language": "python",
   "name": "python3"
  },
  "language_info": {
   "codemirror_mode": {
    "name": "ipython",
    "version": 3
   },
   "file_extension": ".py",
   "mimetype": "text/x-python",
   "name": "python",
   "nbconvert_exporter": "python",
   "pygments_lexer": "ipython3",
   "version": "3.8.3"
  }
 },
 "nbformat": 4,
 "nbformat_minor": 5
}
